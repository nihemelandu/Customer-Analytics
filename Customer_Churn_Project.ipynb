{
  "nbformat": 4,
  "nbformat_minor": 0,
  "metadata": {
    "colab": {
      "provenance": [],
      "authorship_tag": "ABX9TyPKQG2rBAjkgmArvrhNTK9v",
      "include_colab_link": true
    },
    "kernelspec": {
      "name": "python3",
      "display_name": "Python 3"
    },
    "language_info": {
      "name": "python"
    }
  },
  "cells": [
    {
      "cell_type": "markdown",
      "metadata": {
        "id": "view-in-github",
        "colab_type": "text"
      },
      "source": [
        "<a href=\"https://colab.research.google.com/github/nihemelandu/Customer-Analytics/blob/main/Customer_Churn_Project.ipynb\" target=\"_parent\"><img src=\"https://colab.research.google.com/assets/colab-badge.svg\" alt=\"Open In Colab\"/></a>"
      ]
    },
    {
      "cell_type": "markdown",
      "source": [
        "**Goal**:  To observe trends, segment behaviors, and identify correlations.\n",
        "**Research Question**: What are the seasonal shopping patterns of Walmart customers, and how do they vary by product category and customer segment?"
      ],
      "metadata": {
        "id": "qdn-7HReGa1s"
      }
    },
    {
      "cell_type": "code",
      "execution_count": null,
      "metadata": {
        "id": "lYeovLoJo8GA"
      },
      "outputs": [],
      "source": []
    },
    {
      "cell_type": "markdown",
      "source": [
        "We would use hypothesis testing to determine if a claim or assumption about the data is true for the entire population."
      ],
      "metadata": {
        "id": "WZPB5IrfpOCv"
      }
    },
    {
      "cell_type": "code",
      "source": [],
      "metadata": {
        "id": "9xHUhaD--64q"
      },
      "execution_count": null,
      "outputs": []
    }
  ]
}